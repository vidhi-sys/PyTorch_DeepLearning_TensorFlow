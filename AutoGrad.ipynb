{
  "nbformat": 4,
  "nbformat_minor": 0,
  "metadata": {
    "colab": {
      "provenance": []
    },
    "kernelspec": {
      "name": "python3",
      "display_name": "Python 3"
    },
    "language_info": {
      "name": "python"
    }
  },
  "cells": [
    {
      "cell_type": "markdown",
      "source": [
        "**AutoGrad**-Feature used to directly / automatically calculate the derivatives  of tensor components in pytorch using operations like gradient descent"
      ],
      "metadata": {
        "id": "LPhy4uana7Xc"
      }
    },
    {
      "cell_type": "code",
      "source": [
        "import torch\n",
        "x=torch.tensor(3.0,requires_grad=True)\n",
        "y=x**2\n",
        "print(x)\n",
        "print (y)"
      ],
      "metadata": {
        "colab": {
          "base_uri": "https://localhost:8080/"
        },
        "id": "ySa1nwOKbUWz",
        "outputId": "27726a32-cd0e-4df4-fc67-dcae5b0dff02"
      },
      "execution_count": 68,
      "outputs": [
        {
          "output_type": "stream",
          "name": "stdout",
          "text": [
            "tensor(3., requires_grad=True)\n",
            "tensor(9., grad_fn=<PowBackward0>)\n"
          ]
        }
      ]
    },
    {
      "cell_type": "code",
      "source": [
        "y.backward(retain_graph=True)"
      ],
      "metadata": {
        "id": "1WOm6V97bq4G"
      },
      "execution_count": 69,
      "outputs": []
    },
    {
      "cell_type": "markdown",
      "source": [
        "what is this retain graph?\n",
        "[**Read Here**](https://pytorch.org/blog/how-computational-graphs-are-executed-in-pytorch/)"
      ],
      "metadata": {
        "id": "S7gzY_xumoux"
      }
    },
    {
      "cell_type": "code",
      "source": [
        "x.grad"
      ],
      "metadata": {
        "colab": {
          "base_uri": "https://localhost:8080/"
        },
        "id": "RR4LmPoRjF7Z",
        "outputId": "315cb4bd-8984-40ec-d943-02dfcdc52d61"
      },
      "execution_count": 70,
      "outputs": [
        {
          "output_type": "execute_result",
          "data": {
            "text/plain": [
              "tensor(6.)"
            ]
          },
          "metadata": {},
          "execution_count": 70
        }
      ]
    },
    {
      "cell_type": "code",
      "source": [
        "import math\n",
        "z=torch.sin(y)"
      ],
      "metadata": {
        "id": "qNH4ocG-kKV2"
      },
      "execution_count": 71,
      "outputs": []
    },
    {
      "cell_type": "code",
      "source": [
        "z.backward()\n",
        "print(x.grad)"
      ],
      "metadata": {
        "colab": {
          "base_uri": "https://localhost:8080/"
        },
        "id": "NPUSUJ3vlswM",
        "outputId": "81818c91-46fd-40b9-8b0d-75ce48984d1b"
      },
      "execution_count": 72,
      "outputs": [
        {
          "output_type": "stream",
          "name": "stdout",
          "text": [
            "tensor(0.5332)\n"
          ]
        }
      ]
    },
    {
      "cell_type": "code",
      "source": [
        "x=torch.tensor(6.7,requires_grad=True)\n",
        "y=torch.tensor(0.0)"
      ],
      "metadata": {
        "id": "njxxBSoml31D"
      },
      "execution_count": 73,
      "outputs": []
    },
    {
      "cell_type": "code",
      "source": [
        "#intialise weight and bias as 1 and 0\n",
        "w=torch.tensor(1.0,requires_grad=True)\n",
        "b=torch.tensor(0.0,requires_grad=True)"
      ],
      "metadata": {
        "id": "jgcFipkiofbM"
      },
      "execution_count": 74,
      "outputs": []
    },
    {
      "cell_type": "code",
      "source": [
        "z=w*x+b\n",
        "z"
      ],
      "metadata": {
        "colab": {
          "base_uri": "https://localhost:8080/"
        },
        "id": "NUAULt6wo9DD",
        "outputId": "65599de1-ac1a-4dc0-d32d-3e5dd085669c"
      },
      "execution_count": 75,
      "outputs": [
        {
          "output_type": "execute_result",
          "data": {
            "text/plain": [
              "tensor(6.7000, grad_fn=<AddBackward0>)"
            ]
          },
          "metadata": {},
          "execution_count": 75
        }
      ]
    },
    {
      "cell_type": "code",
      "source": [
        "y_pred=torch.sigmoid(z)\n",
        "y_pred"
      ],
      "metadata": {
        "colab": {
          "base_uri": "https://localhost:8080/"
        },
        "id": "wMchbnnWpMrS",
        "outputId": "83578fd6-d62c-42cb-8e32-5dd05eebb666"
      },
      "execution_count": 76,
      "outputs": [
        {
          "output_type": "execute_result",
          "data": {
            "text/plain": [
              "tensor(0.9988, grad_fn=<SigmoidBackward0>)"
            ]
          },
          "metadata": {},
          "execution_count": 76
        }
      ]
    },
    {
      "cell_type": "code",
      "source": [
        "loss=torch.binary_cross_entropy_with_logits(y_pred,y)\n",
        "loss.backward(retain_graph=True)\n",
        "loss"
      ],
      "metadata": {
        "colab": {
          "base_uri": "https://localhost:8080/"
        },
        "id": "DqMKXmmFpVRw",
        "outputId": "14720f2a-baea-4e54-a142-0a1bf6442bfb"
      },
      "execution_count": 77,
      "outputs": [
        {
          "output_type": "execute_result",
          "data": {
            "text/plain": [
              "tensor(1.3124, grad_fn=<BinaryCrossEntropyWithLogitsBackward0>)"
            ]
          },
          "metadata": {},
          "execution_count": 77
        }
      ]
    },
    {
      "cell_type": "code",
      "source": [
        "loss.backward()\n",
        "print(w.grad)\n",
        "print(b.grad)"
      ],
      "metadata": {
        "colab": {
          "base_uri": "https://localhost:8080/"
        },
        "id": "2tJwDoeA8FJe",
        "outputId": "d9c008dc-4675-44e6-e684-a81517f072ad"
      },
      "execution_count": 78,
      "outputs": [
        {
          "output_type": "stream",
          "name": "stdout",
          "text": [
            "tensor(0.0120)\n",
            "tensor(0.0018)\n"
          ]
        }
      ]
    },
    {
      "cell_type": "markdown",
      "source": [
        "![image.png](data:image/png;base64,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)"
      ],
      "metadata": {
        "id": "_oFNnsrx-SZK"
      }
    }
  ]
}