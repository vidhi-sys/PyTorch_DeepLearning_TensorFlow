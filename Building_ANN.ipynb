{
  "nbformat": 4,
  "nbformat_minor": 0,
  "metadata": {
    "colab": {
      "provenance": []
    },
    "kernelspec": {
      "name": "python3",
      "display_name": "Python 3"
    },
    "language_info": {
      "name": "python"
    }
  },
  "cells": [
    {
      "cell_type": "code",
      "execution_count": 88,
      "metadata": {
        "id": "wIyBUHKuOGzU"
      },
      "outputs": [],
      "source": [
        "import torch\n",
        "import numpy as np\n",
        "import pandas as pd\n",
        "import matplotlib.pyplot as plt\n",
        "import torch.optim as optim"
      ]
    },
    {
      "cell_type": "markdown",
      "source": [
        "[**DataSet Here !**](https://www.youtube.com/redirect?event=video_description&redir_token=QUFFLUhqbVpMd2ljVUQ4LTRQWjlNdzl1VldqbXZReFY1UXxBQ3Jtc0ttWkN0QTAtLU5DajVoZEJWQnIwekRvS0pEWnc4eFlxdng2ajdGc1RPSlZmaXZfLXhhQzdTYTVZbk1zOGxrVlhkT2RIcFRIcndCbGMtQlZ2VVBSWktjUVYzQ2RzaTIxMkd1aEQ0akxOR1V4Y1lOYkU2QQ&q=https%3A%2F%2Fdrive.google.com%2Ffile%2Fd%2F1ziN7gJHnr-MQb0_eFsPfPfiiDuvsmqVH%2Fview%3Fusp%3Dsharing&v=6EJaHBJhwDs)\n"
      ],
      "metadata": {
        "id": "ocJDnCLdO0aY"
      }
    },
    {
      "cell_type": "code",
      "source": [
        "data=pd.read_csv('/content/fmnist_small.csv')\n",
        "data.head()"
      ],
      "metadata": {
        "colab": {
          "base_uri": "https://localhost:8080/",
          "height": 255
        },
        "id": "uepZHj9KOc40",
        "outputId": "0e7e1ac7-1562-4d07-81e8-72581ea6e530"
      },
      "execution_count": 89,
      "outputs": [
        {
          "output_type": "execute_result",
          "data": {
            "text/plain": [
              "   label  pixel1  pixel2  pixel3  pixel4  pixel5  pixel6  pixel7  pixel8  \\\n",
              "0      9       0       0       0       0       0       0       0       0   \n",
              "1      7       0       0       0       0       0       0       0       0   \n",
              "2      0       0       0       0       0       0       1       0       0   \n",
              "3      8       0       0       0       0       0       0       0       0   \n",
              "4      8       0       0       0       0       0       0       0       0   \n",
              "\n",
              "   pixel9  ...  pixel775  pixel776  pixel777  pixel778  pixel779  pixel780  \\\n",
              "0       0  ...         0         7         0        50       205       196   \n",
              "1       0  ...         0         0         0         0         0         0   \n",
              "2       0  ...       142       142       142        21         0         3   \n",
              "3       0  ...         0         0         0         0         0         0   \n",
              "4       0  ...       213       203       174       151       188        10   \n",
              "\n",
              "   pixel781  pixel782  pixel783  pixel784  \n",
              "0       213       165         0         0  \n",
              "1         0         0         0         0  \n",
              "2         0         0         0         0  \n",
              "3         0         0         0         0  \n",
              "4         0         0         0         0  \n",
              "\n",
              "[5 rows x 785 columns]"
            ],
            "text/html": [
              "\n",
              "  <div id=\"df-249daca1-cf5c-4bd7-b928-9283c7ba5352\" class=\"colab-df-container\">\n",
              "    <div>\n",
              "<style scoped>\n",
              "    .dataframe tbody tr th:only-of-type {\n",
              "        vertical-align: middle;\n",
              "    }\n",
              "\n",
              "    .dataframe tbody tr th {\n",
              "        vertical-align: top;\n",
              "    }\n",
              "\n",
              "    .dataframe thead th {\n",
              "        text-align: right;\n",
              "    }\n",
              "</style>\n",
              "<table border=\"1\" class=\"dataframe\">\n",
              "  <thead>\n",
              "    <tr style=\"text-align: right;\">\n",
              "      <th></th>\n",
              "      <th>label</th>\n",
              "      <th>pixel1</th>\n",
              "      <th>pixel2</th>\n",
              "      <th>pixel3</th>\n",
              "      <th>pixel4</th>\n",
              "      <th>pixel5</th>\n",
              "      <th>pixel6</th>\n",
              "      <th>pixel7</th>\n",
              "      <th>pixel8</th>\n",
              "      <th>pixel9</th>\n",
              "      <th>...</th>\n",
              "      <th>pixel775</th>\n",
              "      <th>pixel776</th>\n",
              "      <th>pixel777</th>\n",
              "      <th>pixel778</th>\n",
              "      <th>pixel779</th>\n",
              "      <th>pixel780</th>\n",
              "      <th>pixel781</th>\n",
              "      <th>pixel782</th>\n",
              "      <th>pixel783</th>\n",
              "      <th>pixel784</th>\n",
              "    </tr>\n",
              "  </thead>\n",
              "  <tbody>\n",
              "    <tr>\n",
              "      <th>0</th>\n",
              "      <td>9</td>\n",
              "      <td>0</td>\n",
              "      <td>0</td>\n",
              "      <td>0</td>\n",
              "      <td>0</td>\n",
              "      <td>0</td>\n",
              "      <td>0</td>\n",
              "      <td>0</td>\n",
              "      <td>0</td>\n",
              "      <td>0</td>\n",
              "      <td>...</td>\n",
              "      <td>0</td>\n",
              "      <td>7</td>\n",
              "      <td>0</td>\n",
              "      <td>50</td>\n",
              "      <td>205</td>\n",
              "      <td>196</td>\n",
              "      <td>213</td>\n",
              "      <td>165</td>\n",
              "      <td>0</td>\n",
              "      <td>0</td>\n",
              "    </tr>\n",
              "    <tr>\n",
              "      <th>1</th>\n",
              "      <td>7</td>\n",
              "      <td>0</td>\n",
              "      <td>0</td>\n",
              "      <td>0</td>\n",
              "      <td>0</td>\n",
              "      <td>0</td>\n",
              "      <td>0</td>\n",
              "      <td>0</td>\n",
              "      <td>0</td>\n",
              "      <td>0</td>\n",
              "      <td>...</td>\n",
              "      <td>0</td>\n",
              "      <td>0</td>\n",
              "      <td>0</td>\n",
              "      <td>0</td>\n",
              "      <td>0</td>\n",
              "      <td>0</td>\n",
              "      <td>0</td>\n",
              "      <td>0</td>\n",
              "      <td>0</td>\n",
              "      <td>0</td>\n",
              "    </tr>\n",
              "    <tr>\n",
              "      <th>2</th>\n",
              "      <td>0</td>\n",
              "      <td>0</td>\n",
              "      <td>0</td>\n",
              "      <td>0</td>\n",
              "      <td>0</td>\n",
              "      <td>0</td>\n",
              "      <td>1</td>\n",
              "      <td>0</td>\n",
              "      <td>0</td>\n",
              "      <td>0</td>\n",
              "      <td>...</td>\n",
              "      <td>142</td>\n",
              "      <td>142</td>\n",
              "      <td>142</td>\n",
              "      <td>21</td>\n",
              "      <td>0</td>\n",
              "      <td>3</td>\n",
              "      <td>0</td>\n",
              "      <td>0</td>\n",
              "      <td>0</td>\n",
              "      <td>0</td>\n",
              "    </tr>\n",
              "    <tr>\n",
              "      <th>3</th>\n",
              "      <td>8</td>\n",
              "      <td>0</td>\n",
              "      <td>0</td>\n",
              "      <td>0</td>\n",
              "      <td>0</td>\n",
              "      <td>0</td>\n",
              "      <td>0</td>\n",
              "      <td>0</td>\n",
              "      <td>0</td>\n",
              "      <td>0</td>\n",
              "      <td>...</td>\n",
              "      <td>0</td>\n",
              "      <td>0</td>\n",
              "      <td>0</td>\n",
              "      <td>0</td>\n",
              "      <td>0</td>\n",
              "      <td>0</td>\n",
              "      <td>0</td>\n",
              "      <td>0</td>\n",
              "      <td>0</td>\n",
              "      <td>0</td>\n",
              "    </tr>\n",
              "    <tr>\n",
              "      <th>4</th>\n",
              "      <td>8</td>\n",
              "      <td>0</td>\n",
              "      <td>0</td>\n",
              "      <td>0</td>\n",
              "      <td>0</td>\n",
              "      <td>0</td>\n",
              "      <td>0</td>\n",
              "      <td>0</td>\n",
              "      <td>0</td>\n",
              "      <td>0</td>\n",
              "      <td>...</td>\n",
              "      <td>213</td>\n",
              "      <td>203</td>\n",
              "      <td>174</td>\n",
              "      <td>151</td>\n",
              "      <td>188</td>\n",
              "      <td>10</td>\n",
              "      <td>0</td>\n",
              "      <td>0</td>\n",
              "      <td>0</td>\n",
              "      <td>0</td>\n",
              "    </tr>\n",
              "  </tbody>\n",
              "</table>\n",
              "<p>5 rows × 785 columns</p>\n",
              "</div>\n",
              "    <div class=\"colab-df-buttons\">\n",
              "\n",
              "  <div class=\"colab-df-container\">\n",
              "    <button class=\"colab-df-convert\" onclick=\"convertToInteractive('df-249daca1-cf5c-4bd7-b928-9283c7ba5352')\"\n",
              "            title=\"Convert this dataframe to an interactive table.\"\n",
              "            style=\"display:none;\">\n",
              "\n",
              "  <svg xmlns=\"http://www.w3.org/2000/svg\" height=\"24px\" viewBox=\"0 -960 960 960\">\n",
              "    <path d=\"M120-120v-720h720v720H120Zm60-500h600v-160H180v160Zm220 220h160v-160H400v160Zm0 220h160v-160H400v160ZM180-400h160v-160H180v160Zm440 0h160v-160H620v160ZM180-180h160v-160H180v160Zm440 0h160v-160H620v160Z\"/>\n",
              "  </svg>\n",
              "    </button>\n",
              "\n",
              "  <style>\n",
              "    .colab-df-container {\n",
              "      display:flex;\n",
              "      gap: 12px;\n",
              "    }\n",
              "\n",
              "    .colab-df-convert {\n",
              "      background-color: #E8F0FE;\n",
              "      border: none;\n",
              "      border-radius: 50%;\n",
              "      cursor: pointer;\n",
              "      display: none;\n",
              "      fill: #1967D2;\n",
              "      height: 32px;\n",
              "      padding: 0 0 0 0;\n",
              "      width: 32px;\n",
              "    }\n",
              "\n",
              "    .colab-df-convert:hover {\n",
              "      background-color: #E2EBFA;\n",
              "      box-shadow: 0px 1px 2px rgba(60, 64, 67, 0.3), 0px 1px 3px 1px rgba(60, 64, 67, 0.15);\n",
              "      fill: #174EA6;\n",
              "    }\n",
              "\n",
              "    .colab-df-buttons div {\n",
              "      margin-bottom: 4px;\n",
              "    }\n",
              "\n",
              "    [theme=dark] .colab-df-convert {\n",
              "      background-color: #3B4455;\n",
              "      fill: #D2E3FC;\n",
              "    }\n",
              "\n",
              "    [theme=dark] .colab-df-convert:hover {\n",
              "      background-color: #434B5C;\n",
              "      box-shadow: 0px 1px 3px 1px rgba(0, 0, 0, 0.15);\n",
              "      filter: drop-shadow(0px 1px 2px rgba(0, 0, 0, 0.3));\n",
              "      fill: #FFFFFF;\n",
              "    }\n",
              "  </style>\n",
              "\n",
              "    <script>\n",
              "      const buttonEl =\n",
              "        document.querySelector('#df-249daca1-cf5c-4bd7-b928-9283c7ba5352 button.colab-df-convert');\n",
              "      buttonEl.style.display =\n",
              "        google.colab.kernel.accessAllowed ? 'block' : 'none';\n",
              "\n",
              "      async function convertToInteractive(key) {\n",
              "        const element = document.querySelector('#df-249daca1-cf5c-4bd7-b928-9283c7ba5352');\n",
              "        const dataTable =\n",
              "          await google.colab.kernel.invokeFunction('convertToInteractive',\n",
              "                                                    [key], {});\n",
              "        if (!dataTable) return;\n",
              "\n",
              "        const docLinkHtml = 'Like what you see? Visit the ' +\n",
              "          '<a target=\"_blank\" href=https://colab.research.google.com/notebooks/data_table.ipynb>data table notebook</a>'\n",
              "          + ' to learn more about interactive tables.';\n",
              "        element.innerHTML = '';\n",
              "        dataTable['output_type'] = 'display_data';\n",
              "        await google.colab.output.renderOutput(dataTable, element);\n",
              "        const docLink = document.createElement('div');\n",
              "        docLink.innerHTML = docLinkHtml;\n",
              "        element.appendChild(docLink);\n",
              "      }\n",
              "    </script>\n",
              "  </div>\n",
              "\n",
              "\n",
              "    <div id=\"df-36f9eb3b-83f5-4162-862b-abcf7ce5166a\">\n",
              "      <button class=\"colab-df-quickchart\" onclick=\"quickchart('df-36f9eb3b-83f5-4162-862b-abcf7ce5166a')\"\n",
              "                title=\"Suggest charts\"\n",
              "                style=\"display:none;\">\n",
              "\n",
              "<svg xmlns=\"http://www.w3.org/2000/svg\" height=\"24px\"viewBox=\"0 0 24 24\"\n",
              "     width=\"24px\">\n",
              "    <g>\n",
              "        <path d=\"M19 3H5c-1.1 0-2 .9-2 2v14c0 1.1.9 2 2 2h14c1.1 0 2-.9 2-2V5c0-1.1-.9-2-2-2zM9 17H7v-7h2v7zm4 0h-2V7h2v10zm4 0h-2v-4h2v4z\"/>\n",
              "    </g>\n",
              "</svg>\n",
              "      </button>\n",
              "\n",
              "<style>\n",
              "  .colab-df-quickchart {\n",
              "      --bg-color: #E8F0FE;\n",
              "      --fill-color: #1967D2;\n",
              "      --hover-bg-color: #E2EBFA;\n",
              "      --hover-fill-color: #174EA6;\n",
              "      --disabled-fill-color: #AAA;\n",
              "      --disabled-bg-color: #DDD;\n",
              "  }\n",
              "\n",
              "  [theme=dark] .colab-df-quickchart {\n",
              "      --bg-color: #3B4455;\n",
              "      --fill-color: #D2E3FC;\n",
              "      --hover-bg-color: #434B5C;\n",
              "      --hover-fill-color: #FFFFFF;\n",
              "      --disabled-bg-color: #3B4455;\n",
              "      --disabled-fill-color: #666;\n",
              "  }\n",
              "\n",
              "  .colab-df-quickchart {\n",
              "    background-color: var(--bg-color);\n",
              "    border: none;\n",
              "    border-radius: 50%;\n",
              "    cursor: pointer;\n",
              "    display: none;\n",
              "    fill: var(--fill-color);\n",
              "    height: 32px;\n",
              "    padding: 0;\n",
              "    width: 32px;\n",
              "  }\n",
              "\n",
              "  .colab-df-quickchart:hover {\n",
              "    background-color: var(--hover-bg-color);\n",
              "    box-shadow: 0 1px 2px rgba(60, 64, 67, 0.3), 0 1px 3px 1px rgba(60, 64, 67, 0.15);\n",
              "    fill: var(--button-hover-fill-color);\n",
              "  }\n",
              "\n",
              "  .colab-df-quickchart-complete:disabled,\n",
              "  .colab-df-quickchart-complete:disabled:hover {\n",
              "    background-color: var(--disabled-bg-color);\n",
              "    fill: var(--disabled-fill-color);\n",
              "    box-shadow: none;\n",
              "  }\n",
              "\n",
              "  .colab-df-spinner {\n",
              "    border: 2px solid var(--fill-color);\n",
              "    border-color: transparent;\n",
              "    border-bottom-color: var(--fill-color);\n",
              "    animation:\n",
              "      spin 1s steps(1) infinite;\n",
              "  }\n",
              "\n",
              "  @keyframes spin {\n",
              "    0% {\n",
              "      border-color: transparent;\n",
              "      border-bottom-color: var(--fill-color);\n",
              "      border-left-color: var(--fill-color);\n",
              "    }\n",
              "    20% {\n",
              "      border-color: transparent;\n",
              "      border-left-color: var(--fill-color);\n",
              "      border-top-color: var(--fill-color);\n",
              "    }\n",
              "    30% {\n",
              "      border-color: transparent;\n",
              "      border-left-color: var(--fill-color);\n",
              "      border-top-color: var(--fill-color);\n",
              "      border-right-color: var(--fill-color);\n",
              "    }\n",
              "    40% {\n",
              "      border-color: transparent;\n",
              "      border-right-color: var(--fill-color);\n",
              "      border-top-color: var(--fill-color);\n",
              "    }\n",
              "    60% {\n",
              "      border-color: transparent;\n",
              "      border-right-color: var(--fill-color);\n",
              "    }\n",
              "    80% {\n",
              "      border-color: transparent;\n",
              "      border-right-color: var(--fill-color);\n",
              "      border-bottom-color: var(--fill-color);\n",
              "    }\n",
              "    90% {\n",
              "      border-color: transparent;\n",
              "      border-bottom-color: var(--fill-color);\n",
              "    }\n",
              "  }\n",
              "</style>\n",
              "\n",
              "      <script>\n",
              "        async function quickchart(key) {\n",
              "          const quickchartButtonEl =\n",
              "            document.querySelector('#' + key + ' button');\n",
              "          quickchartButtonEl.disabled = true;  // To prevent multiple clicks.\n",
              "          quickchartButtonEl.classList.add('colab-df-spinner');\n",
              "          try {\n",
              "            const charts = await google.colab.kernel.invokeFunction(\n",
              "                'suggestCharts', [key], {});\n",
              "          } catch (error) {\n",
              "            console.error('Error during call to suggestCharts:', error);\n",
              "          }\n",
              "          quickchartButtonEl.classList.remove('colab-df-spinner');\n",
              "          quickchartButtonEl.classList.add('colab-df-quickchart-complete');\n",
              "        }\n",
              "        (() => {\n",
              "          let quickchartButtonEl =\n",
              "            document.querySelector('#df-36f9eb3b-83f5-4162-862b-abcf7ce5166a button');\n",
              "          quickchartButtonEl.style.display =\n",
              "            google.colab.kernel.accessAllowed ? 'block' : 'none';\n",
              "        })();\n",
              "      </script>\n",
              "    </div>\n",
              "\n",
              "    </div>\n",
              "  </div>\n"
            ],
            "application/vnd.google.colaboratory.intrinsic+json": {
              "type": "dataframe",
              "variable_name": "data"
            }
          },
          "metadata": {},
          "execution_count": 89
        }
      ]
    },
    {
      "cell_type": "markdown",
      "source": [
        "**Plan of Action**\n",
        "\n",
        "\n",
        "---\n",
        "\n",
        "\n",
        "* DataLoader objects\n",
        "* Training Loop\n",
        "* Evaluation"
      ],
      "metadata": {
        "id": "1WluYzB_PrYW"
      }
    },
    {
      "cell_type": "code",
      "source": [
        "torch.manual_seed(42)"
      ],
      "metadata": {
        "colab": {
          "base_uri": "https://localhost:8080/"
        },
        "id": "JlKVKGfoOw-1",
        "outputId": "bf07daff-a268-41ce-f1c5-6438138ad0bc"
      },
      "execution_count": 90,
      "outputs": [
        {
          "output_type": "execute_result",
          "data": {
            "text/plain": [
              "<torch._C.Generator at 0x7f75e9fdc6d0>"
            ]
          },
          "metadata": {},
          "execution_count": 90
        }
      ]
    },
    {
      "cell_type": "code",
      "source": [
        "fig,axes=plt.subplots(4,4,figsize=(10,10))\n",
        "plt.suptitle(\"some images\",fontsize=16)\n",
        "for i ,ax in enumerate(axes.flat):\n",
        "  img=data.iloc[i,1:].values.reshape(28,28)\n",
        "  ax.imshow(img)\n",
        "  ax.axis('off')\n",
        "plt.tight_layout()\n",
        "plt.show( )"
      ],
      "metadata": {
        "colab": {
          "base_uri": "https://localhost:8080/",
          "height": 630
        },
        "id": "i0AigxIoP_S4",
        "outputId": "2432c913-72e8-42c1-f262-9ecae0b536b3"
      },
      "execution_count": 91,
      "outputs": [
        {
          "output_type": "display_data",
          "data": {
            "text/plain": [
              "<Figure size 1000x1000 with 16 Axes>"
            ],
            "image/png": "[encoded data removed]"
          },
          "metadata": {}
        }
      ]
    },
    {
      "cell_type": "code",
      "source": [
        "x=data.iloc[:,1:].values\n",
        "y=data.iloc[:,0].values"
      ],
      "metadata": {
        "id": "DjZAdc4IQv1-"
      },
      "execution_count": 92,
      "outputs": []
    },
    {
      "cell_type": "code",
      "source": [
        "from sklearn.model_selection import train_test_split\n",
        "x_train,x_test,y_train,y_test=train_test_split(x,y,test_size=0.2)"
      ],
      "metadata": {
        "id": "2EQHl-veRBC1"
      },
      "execution_count": 93,
      "outputs": []
    },
    {
      "cell_type": "code",
      "source": [
        "x_train=x_train/255.0\n",
        "x_test=x_test/255.0"
      ],
      "metadata": {
        "id": "OUSFAY97ROUX"
      },
      "execution_count": 94,
      "outputs": []
    },
    {
      "cell_type": "code",
      "source": [
        "x_train=torch.tensor(x_train).float()\n",
        "x_test=torch.tensor(x_test).float()\n",
        "y_train=torch.tensor(y_train).long()\n",
        "y_test=torch.tensor(y_test).long()"
      ],
      "metadata": {
        "id": "FmI6BEUNRD48"
      },
      "execution_count": 95,
      "outputs": []
    },
    {
      "cell_type": "code",
      "source": [
        "from torch.utils.data import Dataset, DataLoader"
      ],
      "metadata": {
        "id": "bHkSkQUJRqdT"
      },
      "execution_count": 96,
      "outputs": []
    },
    {
      "cell_type": "code",
      "source": [
        "class my_datset(Dataset):\n",
        "  def __init__(self,x,y):\n",
        "    self.x=x\n",
        "    self.y=y\n",
        "  def __getitem__(self,index):\n",
        "    return self.x[index],self.y[index]\n",
        "  def __len__(self):\n",
        "    return len(self.x)"
      ],
      "metadata": {
        "id": "VcBsjFN4RSwB"
      },
      "execution_count": 97,
      "outputs": []
    },
    {
      "cell_type": "code",
      "source": [
        "train_dataset=my_datset(x_train,y_train)\n",
        "test_dataset=my_datset(x_test,y_test)"
      ],
      "metadata": {
        "id": "rtSibZx4Rstw"
      },
      "execution_count": 98,
      "outputs": []
    },
    {
      "cell_type": "code",
      "source": [
        "# create train and test dataloader\n",
        "train_loader=DataLoader(dataset=train_dataset,batch_size=100,shuffle=True)\n",
        "test_loader=DataLoader(dataset=test_dataset,batch_size=100,shuffle=False)\n",
        "#for calculating accuracy shuffling can cause problem"
      ],
      "metadata": {
        "id": "JLIOPmHjRv6u"
      },
      "execution_count": 99,
      "outputs": []
    },
    {
      "cell_type": "code",
      "source": [
        "# define nn class\n",
        "import torch.nn as nn\n",
        "class my_nn(nn.Module):\n",
        "  def __init__(self,num_features):\n",
        "    super().__init__()\n",
        "    self.model=nn.Sequential(\n",
        "        nn.Linear(num_features,128),\n",
        "        nn.ReLU(),\n",
        "        nn.Linear(128,64),\n",
        "        # incoming and outgoing\n",
        "        nn.ReLU(),\n",
        "        nn.Linear(64,10)\n",
        "       )\n",
        "\n",
        "  def forward(self,x):\n",
        "    return self.model(x)\n",
        "\n",
        "\n",
        ""
      ],
      "metadata": {
        "id": "ZQ2adeqcZ-4k"
      },
      "execution_count": 100,
      "outputs": []
    },
    {
      "cell_type": "code",
      "source": [
        "learning_rate=0.01\n",
        "epochs=100"
      ],
      "metadata": {
        "id": "en91nrzmbCYd"
      },
      "execution_count": 101,
      "outputs": []
    },
    {
      "cell_type": "code",
      "source": [
        "# instantiate model\n",
        "model=my_nn(x_train.shape[1])"
      ],
      "metadata": {
        "id": "MLK4Ig8IbKYE"
      },
      "execution_count": 102,
      "outputs": []
    },
    {
      "cell_type": "code",
      "source": [
        "criterion=nn.CrossEntropyLoss()\n",
        "optimizer=optim.SGD(model.parameters(),lr=learning_rate)"
      ],
      "metadata": {
        "id": "T5LHUj5dbX2E"
      },
      "execution_count": 103,
      "outputs": []
    },
    {
      "cell_type": "code",
      "source": [
        "for epoch in range(epochs):\n",
        "  total_epoch_loss=0\n",
        "  for batch_features,batch_labels in train_loader:\n",
        "\n",
        "    # forward pass\n",
        "    # calculate loss\n",
        "    #back propagation\n",
        "    #gradients update\n",
        "    output=model(batch_features)\n",
        "    loss=criterion(output,batch_labels)\n",
        "    optimizer.zero_grad()\n",
        "    loss.backward()\n",
        "    optimizer.step()\n",
        "    total_epoch_loss+=loss.item()\n",
        "    # print(f'Batch Loss: {loss.item():.4f}') # Optional: uncomment to see batch loss\n",
        "  print(f'Epoch {epoch+1}/{epochs}, Average Loss: {total_epoch_loss/len(train_loader):.4f}')"
      ],
      "metadata": {
        "colab": {
          "base_uri": "https://localhost:8080/"
        },
        "id": "Pen_PSmlbwh3",
        "outputId": "901d3283-a29c-466a-f531-f0a2a8f429ca"
      },
      "execution_count": 104,
      "outputs": [
        {
          "output_type": "stream",
          "name": "stdout",
          "text": [
            "Epoch 1/100, Average Loss: 2.2885\n",
            "Epoch 2/100, Average Loss: 2.2456\n",
            "Epoch 3/100, Average Loss: 2.1900\n",
            "Epoch 4/100, Average Loss: 2.1077\n",
            "Epoch 5/100, Average Loss: 1.9935\n",
            "Epoch 6/100, Average Loss: 1.8453\n",
            "Epoch 7/100, Average Loss: 1.6809\n",
            "Epoch 8/100, Average Loss: 1.5255\n",
            "Epoch 9/100, Average Loss: 1.3925\n",
            "Epoch 10/100, Average Loss: 1.2828\n",
            "Epoch 11/100, Average Loss: 1.1944\n",
            "Epoch 12/100, Average Loss: 1.1222\n",
            "Epoch 13/100, Average Loss: 1.0607\n",
            "Epoch 14/100, Average Loss: 1.0109\n",
            "Epoch 15/100, Average Loss: 0.9687\n",
            "Epoch 16/100, Average Loss: 0.9334\n",
            "Epoch 17/100, Average Loss: 0.9031\n",
            "Epoch 18/100, Average Loss: 0.8775\n",
            "Epoch 19/100, Average Loss: 0.8551\n",
            "Epoch 20/100, Average Loss: 0.8337\n",
            "Epoch 21/100, Average Loss: 0.8191\n",
            "Epoch 22/100, Average Loss: 0.8034\n",
            "Epoch 23/100, Average Loss: 0.7878\n",
            "Epoch 24/100, Average Loss: 0.7746\n",
            "Epoch 25/100, Average Loss: 0.7630\n",
            "Epoch 26/100, Average Loss: 0.7510\n",
            "Epoch 27/100, Average Loss: 0.7417\n",
            "Epoch 28/100, Average Loss: 0.7302\n",
            "Epoch 29/100, Average Loss: 0.7214\n",
            "Epoch 30/100, Average Loss: 0.7136\n",
            "Epoch 31/100, Average Loss: 0.7059\n",
            "Epoch 32/100, Average Loss: 0.6949\n",
            "Epoch 33/100, Average Loss: 0.6885\n",
            "Epoch 34/100, Average Loss: 0.6814\n",
            "Epoch 35/100, Average Loss: 0.6718\n",
            "Epoch 36/100, Average Loss: 0.6636\n",
            "Epoch 37/100, Average Loss: 0.6565\n",
            "Epoch 38/100, Average Loss: 0.6497\n",
            "Epoch 39/100, Average Loss: 0.6427\n",
            "Epoch 40/100, Average Loss: 0.6380\n",
            "Epoch 41/100, Average Loss: 0.6309\n",
            "Epoch 42/100, Average Loss: 0.6267\n",
            "Epoch 43/100, Average Loss: 0.6194\n",
            "Epoch 44/100, Average Loss: 0.6126\n",
            "Epoch 45/100, Average Loss: 0.6068\n",
            "Epoch 46/100, Average Loss: 0.5998\n",
            "Epoch 47/100, Average Loss: 0.5984\n",
            "Epoch 48/100, Average Loss: 0.5945\n",
            "Epoch 49/100, Average Loss: 0.5846\n",
            "Epoch 50/100, Average Loss: 0.5849\n",
            "Epoch 51/100, Average Loss: 0.5786\n",
            "Epoch 52/100, Average Loss: 0.5718\n",
            "Epoch 53/100, Average Loss: 0.5683\n",
            "Epoch 54/100, Average Loss: 0.5633\n",
            "Epoch 55/100, Average Loss: 0.5602\n",
            "Epoch 56/100, Average Loss: 0.5578\n",
            "Epoch 57/100, Average Loss: 0.5519\n",
            "Epoch 58/100, Average Loss: 0.5450\n",
            "Epoch 59/100, Average Loss: 0.5430\n",
            "Epoch 60/100, Average Loss: 0.5406\n",
            "Epoch 61/100, Average Loss: 0.5364\n",
            "Epoch 62/100, Average Loss: 0.5349\n",
            "Epoch 63/100, Average Loss: 0.5282\n",
            "Epoch 64/100, Average Loss: 0.5264\n",
            "Epoch 65/100, Average Loss: 0.5216\n",
            "Epoch 66/100, Average Loss: 0.5190\n",
            "Epoch 67/100, Average Loss: 0.5161\n",
            "Epoch 68/100, Average Loss: 0.5120\n",
            "Epoch 69/100, Average Loss: 0.5098\n",
            "Epoch 70/100, Average Loss: 0.5079\n",
            "Epoch 71/100, Average Loss: 0.5054\n",
            "Epoch 72/100, Average Loss: 0.5042\n",
            "Epoch 73/100, Average Loss: 0.4975\n",
            "Epoch 74/100, Average Loss: 0.4957\n",
            "Epoch 75/100, Average Loss: 0.4922\n",
            "Epoch 76/100, Average Loss: 0.4927\n",
            "Epoch 77/100, Average Loss: 0.4872\n",
            "Epoch 78/100, Average Loss: 0.4905\n",
            "Epoch 79/100, Average Loss: 0.4844\n",
            "Epoch 80/100, Average Loss: 0.4821\n",
            "Epoch 81/100, Average Loss: 0.4800\n",
            "Epoch 82/100, Average Loss: 0.4775\n",
            "Epoch 83/100, Average Loss: 0.4778\n",
            "Epoch 84/100, Average Loss: 0.4718\n",
            "Epoch 85/100, Average Loss: 0.4721\n",
            "Epoch 86/100, Average Loss: 0.4679\n",
            "Epoch 87/100, Average Loss: 0.4701\n",
            "Epoch 88/100, Average Loss: 0.4647\n",
            "Epoch 89/100, Average Loss: 0.4637\n",
            "Epoch 90/100, Average Loss: 0.4608\n",
            "Epoch 91/100, Average Loss: 0.4599\n",
            "Epoch 92/100, Average Loss: 0.4589\n",
            "Epoch 93/100, Average Loss: 0.4525\n",
            "Epoch 94/100, Average Loss: 0.4543\n",
            "Epoch 95/100, Average Loss: 0.4522\n",
            "Epoch 96/100, Average Loss: 0.4487\n",
            "Epoch 97/100, Average Loss: 0.4515\n",
            "Epoch 98/100, Average Loss: 0.4446\n",
            "Epoch 99/100, Average Loss: 0.4425\n",
            "Epoch 100/100, Average Loss: 0.4415\n"
          ]
        }
      ]
    },
    {
      "cell_type": "code",
      "source": [
        "#Evaluation\n",
        "model.eval()"
      ],
      "metadata": {
        "colab": {
          "base_uri": "https://localhost:8080/"
        },
        "id": "PE--9XxSchBZ",
        "outputId": "f75de133-b261-4a72-a471-fdd815d547ff"
      },
      "execution_count": 105,
      "outputs": [
        {
          "output_type": "execute_result",
          "data": {
            "text/plain": [
              "my_nn(\n",
              "  (model): Sequential(\n",
              "    (0): Linear(in_features=784, out_features=128, bias=True)\n",
              "    (1): ReLU()\n",
              "    (2): Linear(in_features=128, out_features=64, bias=True)\n",
              "    (3): ReLU()\n",
              "    (4): Linear(in_features=64, out_features=10, bias=True)\n",
              "  )\n",
              ")"
            ]
          },
          "metadata": {},
          "execution_count": 105
        }
      ]
    },
    {
      "cell_type": "code",
      "source": [
        "# evaluation code\n",
        "total = 0\n",
        "correct = 0\n",
        "\n",
        "with torch.no_grad():\n",
        "\n",
        "  for batch_features, batch_labels in test_loader:\n",
        "\n",
        "    outputs = model(batch_features)\n",
        "\n",
        "    _, predicted = torch.max(outputs, 1)\n",
        "\n",
        "    total = total + batch_labels.shape[0]\n",
        "\n",
        "    correct = correct + (predicted == batch_labels).sum().item()\n",
        "\n",
        "print(correct/total)"
      ],
      "metadata": {
        "colab": {
          "base_uri": "https://localhost:8080/"
        },
        "id": "Va70Aac8dZpV",
        "outputId": "6e4c15fa-d58b-42b4-af81-1ba33b3befad"
      },
      "execution_count": 106,
      "outputs": [
        {
          "output_type": "stream",
          "name": "stdout",
          "text": [
            "0.7925\n"
          ]
        }
      ]
    }
  ]
}