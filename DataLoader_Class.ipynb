{
  "nbformat": 4,
  "nbformat_minor": 0,
  "metadata": {
    "colab": {
      "provenance": []
    },
    "kernelspec": {
      "name": "python3",
      "display_name": "Python 3"
    },
    "language_info": {
      "name": "python"
    }
  },
  "cells": [
    {
      "cell_type": "markdown",
      "source": [
        "DataSets and DataLoader Classses\n",
        "* [Probelm in Previous Data](https://www.geeksforgeeks.org/machine-learning/difference-between-batch-gradient-descent-and-stochastic-gradient-descent/)\n",
        "* [Better Approach](https://www.geeksforgeeks.org/deep-learning/mini-batch-gradient-descent-in-deep-learning/)"
      ],
      "metadata": {
        "id": "wQ7hkYGY_Xx_"
      }
    },
    {
      "cell_type": "code",
      "source": [
        "import torch\n",
        "import numpy as np\n",
        "import pandas as pd"
      ],
      "metadata": {
        "id": "09Kh6QS9_bt9"
      },
      "execution_count": 76,
      "outputs": []
    },
    {
      "cell_type": "code",
      "source": [
        "w=torch.tensor(3.0,requires_grad=True)\n",
        "b=torch.tensor(1.0,requires_grad=True)"
      ],
      "metadata": {
        "id": "pNKXRz_-A0EC"
      },
      "execution_count": 77,
      "outputs": []
    },
    {
      "cell_type": "code",
      "source": [
        "x=torch.tensor([1,2,3,4])\n",
        "y=torch.tensor([2,4,6,8])"
      ],
      "metadata": {
        "id": "P5OUHilwA-uy"
      },
      "execution_count": 78,
      "outputs": []
    },
    {
      "cell_type": "code",
      "source": [
        "from sklearn.model_selection import train_test_split\n",
        "x_train,x_test,y_train,y_test=train_test_split(x,y,test_size=0.2)\n"
      ],
      "metadata": {
        "id": "ea2dXEL_BAs0"
      },
      "execution_count": 79,
      "outputs": []
    },
    {
      "cell_type": "code",
      "source": [
        "loss_history = []\n",
        "batch_size=32\n",
        "n_sample=len(x_train)\n",
        "for epoch in range(10):\n",
        "    for i in range(0,len(x_train),batch_size):\n",
        "      for start_idx in range(0, len(x_train), batch_size):\n",
        "        end_idx = start_idx + batch_size\n",
        "        x_batch=x_train[i:i+batch_size]\n",
        "        y_batch=y_train[i:i+batch_size]\n",
        "        y_pred=w*x_batch+b\n",
        "        loss=torch.mean((y_pred-y_batch)**2)\n",
        "        loss.backward()\n",
        "        with torch.no_grad():\n",
        "            w-=0.01*w.grad\n",
        "            b-=0.01*b.grad\n",
        "        w.grad.zero_()\n",
        "        b.grad.zero_()\n",
        "        optimizer=torch.optim.SGD([w,b],lr=0.01)\n",
        "    y_pred=w*x_test+b\n",
        "    loss=torch.mean((y_pred-y_test)**2)\n",
        "    loss_history.append(loss.item())\n",
        "    print(f\"Epoch:{epoch+1},Loss:{loss.item()}\")"
      ],
      "metadata": {
        "colab": {
          "base_uri": "https://localhost:8080/"
        },
        "id": "aTPMqfDLBKTc",
        "outputId": "f12262d6-4ecd-4db0-bd83-76de29bbadd4"
      },
      "execution_count": 80,
      "outputs": [
        {
          "output_type": "stream",
          "name": "stdout",
          "text": [
            "Epoch:1,Loss:19.418703079223633\n",
            "Epoch:2,Loss:15.048540115356445\n",
            "Epoch:3,Loss:11.630973815917969\n",
            "Epoch:4,Loss:8.962223052978516\n",
            "Epoch:5,Loss:6.8816609382629395\n",
            "Epoch:6,Loss:5.262745380401611\n",
            "Epoch:7,Loss:4.005830764770508\n",
            "Epoch:8,Loss:3.0324630737304688\n",
            "Epoch:9,Loss:2.280933141708374\n",
            "Epoch:10,Loss:1.702724575996399\n"
          ]
        }
      ]
    },
    {
      "cell_type": "code",
      "source": [
        "import matplotlib.pyplot as plt\n",
        "\n",
        "plt.plot(range(1, len(loss_history) + 1), loss_history,c=\"g\")\n",
        "plt.xlabel('Epoch')\n",
        "plt.ylabel('Loss')\n",
        "plt.title('Loss vs Epoch')\n",
        "plt.show()"
      ],
      "metadata": {
        "colab": {
          "base_uri": "https://localhost:8080/",
          "height": 472
        },
        "id": "CacEBtWLDChR",
        "outputId": "b80ee997-91bd-4b94-bf56-8feec628adca"
      },
      "execution_count": 81,
      "outputs": [
        {
          "output_type": "display_data",
          "data": {
            "text/plain": [
              "<Figure size 640x480 with 1 Axes>"
            ],
            "image/png": "[encoded data removed]"
          },
          "metadata": {}
        }
      ]
    },
    {
      "cell_type": "markdown",
      "source": [
        "# **A Better Approach !**"
      ],
      "metadata": {
        "id": "2T2lH5KLIy75"
      }
    },
    {
      "cell_type": "code",
      "source": [
        "from sklearn.datasets import make_classification\n"
      ],
      "metadata": {
        "id": "PIQvqBJcIzKU"
      },
      "execution_count": 82,
      "outputs": []
    },
    {
      "cell_type": "code",
      "source": [
        "a,b=make_classification(\n",
        "    n_samples=15,\n",
        "    n_features=2,\n",
        "    n_classes=2,\n",
        "    n_informative=2,\n",
        "    n_redundant=0,\n",
        "    random_state=42\n",
        ")"
      ],
      "metadata": {
        "id": "rDnYyyvkI8PS"
      },
      "execution_count": 83,
      "outputs": []
    },
    {
      "cell_type": "code",
      "source": [
        "a.shape,b.shape"
      ],
      "metadata": {
        "colab": {
          "base_uri": "https://localhost:8080/"
        },
        "id": "8DxYF50GJIDr",
        "outputId": "94eed72f-8302-446c-b9dc-b245eb502786"
      },
      "execution_count": 84,
      "outputs": [
        {
          "output_type": "execute_result",
          "data": {
            "text/plain": [
              "((15, 2), (15,))"
            ]
          },
          "metadata": {},
          "execution_count": 84
        }
      ]
    },
    {
      "cell_type": "code",
      "source": [
        "a=torch.tensor(a,dtype=torch.float32)\n",
        "b=torch.tensor(b,dtype=torch.float32)"
      ],
      "metadata": {
        "id": "u35PHfQjJV_K"
      },
      "execution_count": 85,
      "outputs": []
    },
    {
      "cell_type": "code",
      "source": [
        "from torch.utils.data import Dataset,DataLoader"
      ],
      "metadata": {
        "id": "0ZwS4IY_JfUS"
      },
      "execution_count": 86,
      "outputs": []
    },
    {
      "cell_type": "code",
      "source": [
        "class my_dataset(Dataset):\n",
        "  def __init__(self,a,b):\n",
        "    self.a=a\n",
        "    self.b=b\n",
        "  def __len__(self):\n",
        "    return len(self.a)\n",
        "  def __getitem__(self,idx):\n",
        "    #Apply Transformations here\n",
        "\n",
        "    return self.a[idx],self.b[idx]\n",
        ""
      ],
      "metadata": {
        "id": "22IXHZ9bJmkM"
      },
      "execution_count": 87,
      "outputs": []
    },
    {
      "cell_type": "code",
      "source": [
        "dataset=my_dataset(a,b)\n"
      ],
      "metadata": {
        "id": "fyeZvzn-J8Vg"
      },
      "execution_count": 88,
      "outputs": []
    },
    {
      "cell_type": "code",
      "source": [
        "dataloader=DataLoader(dataset,batch_size=2,shuffle=True)\n",
        "# shuffles via sampler\n",
        "#sequnetial or random sampler"
      ],
      "metadata": {
        "id": "b54XflMWKZms"
      },
      "execution_count": 89,
      "outputs": []
    },
    {
      "cell_type": "code",
      "source": [
        "for batch_a,batch_b in dataloader:\n",
        "  print(batch_a,batch_b)\n",
        "  print(\"----------------\")"
      ],
      "metadata": {
        "colab": {
          "base_uri": "https://localhost:8080/"
        },
        "id": "QeuThTL3KeK3",
        "outputId": "58d818b7-b856-4f4c-8d9b-26dbc765a12a"
      },
      "execution_count": 90,
      "outputs": [
        {
          "output_type": "stream",
          "name": "stdout",
          "text": [
            "tensor([[-0.7989,  0.4270],\n",
            "        [ 0.6633,  0.2493]]) tensor([0., 1.])\n",
            "----------------\n",
            "tensor([[-1.2387,  1.4108],\n",
            "        [ 0.7880,  0.5862]]) tensor([0., 1.])\n",
            "----------------\n",
            "tensor([[-1.1964, -0.9982],\n",
            "        [ 0.4392,  0.1795]]) tensor([0., 1.])\n",
            "----------------\n",
            "tensor([[-1.0922, -1.9126],\n",
            "        [ 0.7920, -0.8246]]) tensor([0., 1.])\n",
            "----------------\n",
            "tensor([[-0.5949,  0.8776],\n",
            "        [-0.0993,  0.8415]]) tensor([1., 0.])\n",
            "----------------\n",
            "tensor([[-1.0581, -0.7125],\n",
            "        [ 0.4692, -0.3438]]) tensor([0., 1.])\n",
            "----------------\n",
            "tensor([[-0.1463,  1.2100],\n",
            "        [ 0.5762, -0.3023]]) tensor([0., 1.])\n",
            "----------------\n",
            "tensor([[-0.9697, -0.9093]]) tensor([0.])\n",
            "----------------\n"
          ]
        }
      ]
    },
    {
      "cell_type": "markdown",
      "source": [
        "**Created Batches now we  can Furthur do Parellelisation also ......**"
      ],
      "metadata": {
        "id": "e4lMiPRwMA73"
      }
    },
    {
      "cell_type": "code",
      "source": [
        "# collate fxn in dataloader class\n",
        "# how to combine the samples\n",
        "\n",
        "def my_collate_fn(batch):\n",
        "  # Example: Transpose the batch\n",
        "  a = torch.stack([item[0] for item in batch])\n",
        "  b = torch.stack([item[1] for item in batch])\n",
        "  return [a, b]"
      ],
      "metadata": {
        "id": "xtdvJ2yPKz1L"
      },
      "execution_count": 91,
      "outputs": []
    }
  ]
}